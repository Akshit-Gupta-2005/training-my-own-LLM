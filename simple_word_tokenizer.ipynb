{
 "cells": [
  {
   "cell_type": "code",
   "execution_count": 14,
   "id": "fdc55ad7",
   "metadata": {},
   "outputs": [
    {
     "name": "stdout",
     "output_type": "stream",
     "text": [
      "Total number of characters: 1394574\n",
      "Table of Contents\n",
      " \n",
      " \n",
      "Title Page\n",
      "Copyright Page\n",
      "Dedication\n",
      " \n",
      "CHAPTER ONE - A Place for Demons\n",
      "CHAPT\n"
     ]
    }
   ],
   "source": [
    "import PyPDF2\n",
    "\n",
    "with open(\"The_Name_of_the_Wind.pdf\", \"rb\") as f:\n",
    "    reader = PyPDF2.PdfReader(f)\n",
    "    raw_text = \"\"\n",
    "    for page in reader.pages:\n",
    "        raw_text += page.extract_text()\n",
    "\n",
    "print(\"Total number of characters:\", len(raw_text))\n",
    "print(raw_text[:99])\n"
   ]
  },
  {
   "cell_type": "code",
   "execution_count": 15,
   "id": "b17cbe64",
   "metadata": {},
   "outputs": [],
   "source": [
    "import re as re"
   ]
  },
  {
   "cell_type": "code",
   "execution_count": 16,
   "id": "03185f36",
   "metadata": {},
   "outputs": [
    {
     "name": "stdout",
     "output_type": "stream",
     "text": [
      "['Table', 'of', 'Contents', 'Title', 'Page', 'Copyright', 'Page', 'Dedication', 'CHAPTER', 'ONE', '-', 'A', 'Place', 'for', 'Demons', 'CHAPTER', 'TWO', '-', 'A', 'Beautiful', 'Day', 'CHAPTER', 'THREE', '-', 'Wood', 'and', 'Word', 'CHAPTER', 'FOUR', '-']\n"
     ]
    }
   ],
   "source": [
    "preprocessed = re.split(r'([,.:;?_!\"()\\']|--|\\s)', raw_text)\n",
    "preprocessed = [item.strip() for item in preprocessed if item.strip()]\n",
    "print(preprocessed[:30])"
   ]
  },
  {
   "cell_type": "code",
   "execution_count": 17,
   "id": "5387186b",
   "metadata": {},
   "outputs": [
    {
     "name": "stdout",
     "output_type": "stream",
     "text": [
      "302841\n"
     ]
    }
   ],
   "source": [
    "print(len(preprocessed))"
   ]
  },
  {
   "cell_type": "code",
   "execution_count": 18,
   "id": "df793303",
   "metadata": {},
   "outputs": [
    {
     "name": "stdout",
     "output_type": "stream",
     "text": [
      "17110\n"
     ]
    }
   ],
   "source": [
    "all_words = sorted(set(preprocessed))\n",
    "vocab_size = len(all_words)\n",
    "\n",
    "print(vocab_size)"
   ]
  },
  {
   "cell_type": "code",
   "execution_count": 19,
   "id": "a7757543",
   "metadata": {},
   "outputs": [],
   "source": [
    "vocab = {token:integer for integer,token in enumerate(all_words)}\n"
   ]
  },
  {
   "cell_type": "code",
   "execution_count": 20,
   "id": "b6cbd68c",
   "metadata": {},
   "outputs": [
    {
     "name": "stdout",
     "output_type": "stream",
     "text": [
      "('!', 0)\n",
      "('(', 1)\n",
      "(')', 2)\n",
      "(',', 3)\n",
      "('-', 4)\n",
      "('-3', 5)\n",
      "('.', 6)\n",
      "('0', 7)\n",
      "('1973', 8)\n",
      "('1988', 9)\n",
      "('2007', 10)\n",
      "('2010', 11)\n",
      "('23rd', 12)\n",
      "('247', 13)\n",
      "('28th', 14)\n",
      "('3', 15)\n",
      "('5', 16)\n",
      "('5750', 17)\n",
      "('7', 18)\n",
      "('8705', 19)\n",
      "('9', 20)\n",
      "('978', 21)\n",
      "('9EA', 22)\n",
      "(':', 23)\n",
      "(';', 24)\n",
      "('?', 25)\n",
      "('A', 26)\n",
      "('ABENTHY', 27)\n",
      "('ABOUT', 28)\n",
      "('ADMISSIONS', 29)\n",
      "('ADVICE', 30)\n",
      "('AFTER', 31)\n",
      "('AGAIN', 32)\n",
      "('AINS', 33)\n",
      "('ALL', 34)\n",
      "('AM', 35)\n",
      "('AN', 36)\n",
      "('AND', 37)\n",
      "('ANKER’S', 38)\n",
      "('ANY', 39)\n",
      "('ARCANIST', 40)\n",
      "('AROUND', 41)\n",
      "('AST', 42)\n",
      "('AT', 43)\n",
      "('AWAKE', 44)\n",
      "('Aaron', 45)\n",
      "('Aaron’s', 46)\n",
      "('Abbott’s', 47)\n",
      "('Abbot’s', 48)\n",
      "('Abenthy', 49)\n",
      "('Abenthy’s', 50)\n"
     ]
    }
   ],
   "source": [
    "for i, item in enumerate(vocab.items()):\n",
    "    print(item)\n",
    "    if i >= 50:\n",
    "        break"
   ]
  },
  {
   "cell_type": "code",
   "execution_count": 21,
   "id": "8ae70f5a",
   "metadata": {},
   "outputs": [],
   "source": [
    "class SimpleTokenizerV1:\n",
    "    def __init__(self, vocab):\n",
    "        self.str_to_int = vocab\n",
    "        self.int_to_str = {i:s for s,i in vocab.items()}\n",
    "    \n",
    "    def encode(self, text):\n",
    "        preprocessed = re.split(r'([,.:;?_!\"()\\']|--|\\s)', text)\n",
    "                                \n",
    "        preprocessed = [\n",
    "            item.strip() for item in preprocessed if item.strip()\n",
    "        ]\n",
    "        ids = [self.str_to_int[s] for s in preprocessed]\n",
    "        return ids\n",
    "        \n",
    "    def decode(self, ids):\n",
    "        text = \" \".join([self.int_to_str[i] for i in ids])\n",
    "        # Replace spaces before the specified punctuations\n",
    "        text = re.sub(r'\\s+([,.?!\"()\\'])', r'\\1', text)\n",
    "        return text"
   ]
  },
  {
   "cell_type": "code",
   "execution_count": 22,
   "id": "013d2ce9",
   "metadata": {},
   "outputs": [
    {
     "name": "stdout",
     "output_type": "stream",
     "text": [
      "[964, 3, 5761, 15769, 8995, 13889, 25]\n"
     ]
    }
   ],
   "source": [
    "tokenizer = SimpleTokenizerV1(vocab)\n",
    "\n",
    "text = \"Hello, do you like tea?\"\n",
    "print(tokenizer.encode(text))"
   ]
  },
  {
   "cell_type": "code",
   "execution_count": 23,
   "id": "1c0e7338",
   "metadata": {},
   "outputs": [],
   "source": [
    "# text = \"\"\"\"It's the last he painted, you know,\" \n",
    "#            Mrs. Gisburn said with pardonable pride.\"\"\"\n",
    "# ids = tokenizer.encode(text)\n",
    "# print(ids)"
   ]
  },
  {
   "cell_type": "code",
   "execution_count": 24,
   "id": "bf8aedb9",
   "metadata": {},
   "outputs": [],
   "source": [
    "all_tokens = sorted(list(set(preprocessed)))\n",
    "all_tokens.extend([\"<|endoftext|>\", \"<|unk|>\"])\n",
    "\n",
    "vocab = {token:integer for integer,token in enumerate(all_tokens)}"
   ]
  },
  {
   "cell_type": "code",
   "execution_count": 25,
   "id": "6dba17dd",
   "metadata": {},
   "outputs": [
    {
     "name": "stdout",
     "output_type": "stream",
     "text": [
      "('”“Wolves', 17107)\n",
      "('”“You', 17108)\n",
      "('”“You’re', 17109)\n",
      "('<|endoftext|>', 17110)\n",
      "('<|unk|>', 17111)\n"
     ]
    }
   ],
   "source": [
    "for i, item in enumerate(list(vocab.items())[-5:]):\n",
    "    print(item)"
   ]
  },
  {
   "cell_type": "code",
   "execution_count": 26,
   "id": "a809613d",
   "metadata": {},
   "outputs": [],
   "source": [
    "class SimpleTokenizerV2:\n",
    "    def __init__(self, vocab):\n",
    "        self.str_to_int = vocab\n",
    "        self.int_to_str = { i:s for s,i in vocab.items()}\n",
    "    \n",
    "    def encode(self, text):\n",
    "        preprocessed = re.split(r'([,.:;?_!\"()\\']|--|\\s)', text)\n",
    "        preprocessed = [item.strip() for item in preprocessed if item.strip()]\n",
    "        preprocessed = [\n",
    "            item if item in self.str_to_int \n",
    "            else \"<|unk|>\" for item in preprocessed\n",
    "        ]\n",
    "\n",
    "        ids = [self.str_to_int[s] for s in preprocessed]\n",
    "        return ids\n",
    "        \n",
    "    def decode(self, ids):\n",
    "        text = \" \".join([self.int_to_str[i] for i in ids])\n",
    "        # Replace spaces before the specified punctuations\n",
    "        text = re.sub(r'\\s+([,.:;?!\"()\\'])', r'\\1', text)\n",
    "        return text"
   ]
  },
  {
   "cell_type": "code",
   "execution_count": null,
   "id": "8d16fd17",
   "metadata": {},
   "outputs": [
    {
     "name": "stdout",
     "output_type": "stream",
     "text": [
      "Hello, do you like tea? <|endoftext|> In the sunlit terraces of the palacess.\n"
     ]
    }
   ],
   "source": [
    "tokenizer = SimpleTokenizerV2(vocab)\n",
    "\n",
    "text1 = \"Hello, do you like tea?\"\n",
    "text2 = \"In the sunlit terraces of the palace.\"\n",
    "\n",
    "text = \" <|endoftext|> \".join((text1, text2))\n",
    "\n",
    "print(text)"
   ]
  },
  {
   "cell_type": "code",
   "execution_count": 28,
   "id": "dded36e3",
   "metadata": {},
   "outputs": [
    {
     "data": {
      "text/plain": [
       "[964,\n",
       " 3,\n",
       " 5761,\n",
       " 15769,\n",
       " 8995,\n",
       " 13889,\n",
       " 25,\n",
       " 17110,\n",
       " 1081,\n",
       " 14020,\n",
       " 17111,\n",
       " 17111,\n",
       " 10178,\n",
       " 14020,\n",
       " 10483,\n",
       " 6]"
      ]
     },
     "execution_count": 28,
     "metadata": {},
     "output_type": "execute_result"
    }
   ],
   "source": [
    "tokenizer.encode(text)\n"
   ]
  },
  {
   "cell_type": "code",
   "execution_count": 29,
   "id": "1768b8db",
   "metadata": {},
   "outputs": [
    {
     "data": {
      "text/plain": [
       "'Hello, do you like tea? <|endoftext|> In the <|unk|> <|unk|> of the palace.'"
      ]
     },
     "execution_count": 29,
     "metadata": {},
     "output_type": "execute_result"
    }
   ],
   "source": [
    "tokenizer.decode(tokenizer.encode(text))"
   ]
  }
 ],
 "metadata": {
  "kernelspec": {
   "display_name": "Python 3",
   "language": "python",
   "name": "python3"
  },
  "language_info": {
   "codemirror_mode": {
    "name": "ipython",
    "version": 3
   },
   "file_extension": ".py",
   "mimetype": "text/x-python",
   "name": "python",
   "nbconvert_exporter": "python",
   "pygments_lexer": "ipython3",
   "version": "3.12.3"
  }
 },
 "nbformat": 4,
 "nbformat_minor": 5
}
